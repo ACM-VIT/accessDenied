{
  "nbformat": 4,
  "nbformat_minor": 0,
  "metadata": {
    "colab": {
      "provenance": []
    },
    "kernelspec": {
      "name": "python3",
      "display_name": "Python 3"
    },
    "language_info": {
      "name": "python"
    }
  },
  "cells": [
    {
      "cell_type": "markdown",
      "source": [
        "# Reference used: \n",
        "- https://dzone.com/articles/algorithm-week-homomorphic\n",
        "\n",
        "## Sub References: \n",
        "- https://www.cs.cmu.edu/~rwh/theses/okasaki.pdf\n",
        "- https://pdos.csail.mit.edu/papers/otfvec/paper.pdf, \n",
        "\n",
        "\n",
        "## Properties of a Homomorphic Function: \n",
        "\n",
        "    k.H(m + n + o) = k.H(m) + k.H(n) + k.H(o) = H(k.m) + H(k.n) + H(k.o)\n",
        "\n",
        "    The homomorphic hash function is:\n",
        "        H(x) = g^x (mod q)\n",
        "\n",
        "    here, sum = a + b + c + d + e -> sum is the key and\n",
        "    a, b, ..., e are the subkeys that are generated from the key"
      ],
      "metadata": {
        "id": "9iProQB99eUI"
      }
    },
    {
      "cell_type": "code",
      "source": [
        "import random\n",
        "import math\n",
        "import pickle\n",
        "\n",
        "PASS_LEN = 10\n",
        "BLOCK_LEN = 5"
      ],
      "metadata": {
        "id": "wr2MJouw9Zy-"
      },
      "execution_count": 117,
      "outputs": []
    },
    {
      "cell_type": "code",
      "source": [
        "def isPrime(x: int) -> bool:\n",
        "    '''\n",
        "    Checks if the given number is a prime\n",
        "    '''\n",
        "    for i in range(2, int(math.sqrt(x)) + 1):\n",
        "        if(x % i == 0):\n",
        "            return False\n",
        "\n",
        "    return True"
      ],
      "metadata": {
        "id": "75-X0Cg63Jk-"
      },
      "execution_count": 118,
      "outputs": []
    },
    {
      "cell_type": "code",
      "source": [
        "def primegen(start = 1001, step = 1) -> list:\n",
        "    '''\n",
        "    Generates a set of primes P to be used for for hashing\n",
        "    '''\n",
        "    i = start\n",
        "    primes = []\n",
        "    while (len(primes) < BLOCK_LEN):\n",
        "        if(isPrime(i)):\n",
        "            primes.append(i)\n",
        "        i+=step\n",
        "    # print(f'primes({start}, {step}): {primes}')\n",
        "\n",
        "    return primes"
      ],
      "metadata": {
        "id": "Wq0c5dI48yP1"
      },
      "execution_count": 119,
      "outputs": []
    },
    {
      "cell_type": "code",
      "source": [
        "def keygen(P = 1001) -> int:\n",
        "    '''\n",
        "    Generates a set of primes Q to be used for hashing\n",
        "    Q follows the property: Q % P == 1\n",
        "    '''\n",
        "    keys = []\n",
        "    i = 1\n",
        "    # print(f\"P: {P}\\nQ:\")\n",
        "    while len(keys) < BLOCK_LEN:\n",
        "        Q = P * i + 1\n",
        "        if(isPrime(Q) and Q % P == 1):\n",
        "            # print(f\"\\t{Q}\")\n",
        "            keys.append(Q)\n",
        "        i+=1\n",
        "    k = random.randint(0, BLOCK_LEN-1)\n",
        "    # print(f'keygen({P}): {keys} - {keys[k]}')\n",
        "    \n",
        "    return keys[k]"
      ],
      "metadata": {
        "id": "rN1Rmmqt82Ea"
      },
      "execution_count": 120,
      "outputs": []
    },
    {
      "cell_type": "code",
      "source": [
        "def HomoHash(a: int, b: int, x: int, k = 1) -> int:\n",
        "    '''\n",
        "    The main homomorphic hash function: a^(k.x) (mod b)\n",
        "    '''\n",
        "    return pow(a, k*x, b)"
      ],
      "metadata": {
        "id": "oLVgrXzA8V7n"
      },
      "execution_count": 121,
      "outputs": []
    },
    {
      "cell_type": "code",
      "source": [
        "def obfuscate(x: list, k = [1 for j in range(BLOCK_LEN)]) -> list:\n",
        "    '''\n",
        "    Obfuscates all the subkeys to be sent by multiplying them with a random secret number k\n",
        "    '''\n",
        "    obfuscated_message = [[0 for j in range(BLOCK_LEN)] for i in range(len(x))] \n",
        "    for i in range(len(x)):\n",
        "        for j in range(BLOCK_LEN):\n",
        "            obfuscated_message[i][j] = x[i][j]*k[j]\n",
        "            # print(f\"obfuscated_message[{i}][{j}] = x[{i}][{j}]*k[{j}] = {x[i][j]}*{k[j]} = {obfuscated_message[i][j]}\")\n",
        "\n",
        "    return obfuscated_message"
      ],
      "metadata": {
        "id": "37Om2DGu8lur"
      },
      "execution_count": 122,
      "outputs": []
    },
    {
      "cell_type": "code",
      "source": [
        "def client_hash(x: list, g: list, q: list, p: list, k = [1 for j in range(BLOCK_LEN)])  -> list:\n",
        "    '''\n",
        "    implements \"add\": g^k(a+b) (mod q)\n",
        "    # to compute the hash:\n",
        "    ## compute the sum of the characters by adding each one\n",
        "    ## hash that sum by raising g to the power of the sum (mod q)\n",
        "    '''\n",
        "    sums = [0 for j in range(BLOCK_LEN)]\n",
        "    hashed_sums = [0 for j in range(BLOCK_LEN)]\n",
        "    for i in range(BLOCK_LEN): # for i in range(0, PASS_LEN//BLOCK_LEN + 1): sum+= i%p\n",
        "        # sum = 0 and replace hashed_sums with sum\n",
        "        for j in range(len(x)):\n",
        "            sums[i] += (x[j][i] % p[i])\n",
        "        sums[i] %= p[i]\n",
        "        hashed_sums[i] = HomoHash(g[i], q[i], k[i]*(sums[i]))\n",
        "    # print(hashed_sums)\n",
        "    \n",
        "    return hashed_sums"
      ],
      "metadata": {
        "id": "ov8RwO9t8dyx"
      },
      "execution_count": 123,
      "outputs": []
    },
    {
      "cell_type": "code",
      "source": [
        "def server_hash(x: list, g: list, q: list, p: list, k = [1 for j in range(BLOCK_LEN)])  -> tuple:\n",
        "    '''\n",
        "    implements \"multiply\": g^k.a * g^k.b (mod q)\n",
        "    # hashed_products are the keys computed by each individual server\n",
        "    # to compute the hash:\n",
        "    ## compute the hash of each individual character by raising g to the power of the character (mod q)\n",
        "    ## compute the \"sum\" of the hashes of the individual characters by multiplying them (mod q)\n",
        "    '''\n",
        "    hashed_products = [[1 for j in range(BLOCK_LEN)] for i in range(len(x))]\n",
        "    products = [1 for j in range(BLOCK_LEN)]\n",
        "    # for i in range(0, PASS_LEN//BLOCK_LEN + 1): product *= pow(g, q, x[i]%p)\n",
        "    for i in range(BLOCK_LEN):\n",
        "        for j in range(len(x)):\n",
        "            temp = HomoHash(g[i], q[i], k[i]*x[j][i])\n",
        "            hashed_products[j][i] = temp\n",
        "            products[i] *= temp\n",
        "            products[i] %= q[i]\n",
        "    # print(products)\n",
        "    # print(hashed_products)\n",
        "\n",
        "    return products, hashed_products"
      ],
      "metadata": {
        "id": "NKR0WUZe8gqp"
      },
      "execution_count": 124,
      "outputs": []
    },
    {
      "cell_type": "code",
      "source": [
        "# Variables used in the script\n",
        "# get password from the user\n",
        "inp = input(f\"Enter a password with exactly {PASS_LEN} characters: \") # private\n",
        "# 'qwertyuiop'  \n",
        "inp += ' '*(PASS_LEN-len(inp))\n",
        "# hash message\n",
        "m = [[ord(inp[i+j]) for j in range(BLOCK_LEN)] for i in range(0, PASS_LEN, BLOCK_LEN)] # private\n",
        "S = [[0 for j in range(BLOCK_LEN)] for i in range(len(m))] # distributed"
      ],
      "metadata": {
        "colab": {
          "base_uri": "https://localhost:8080/"
        },
        "id": "IOWUDote2IVm",
        "outputId": "d800ab4a-b7a9-46a1-a69c-8ff7d44b2c7b"
      },
      "execution_count": 125,
      "outputs": [
        {
          "name": "stdout",
          "output_type": "stream",
          "text": [
            "Enter a password with exactly 10 characters: ACM rocks\n"
          ]
        }
      ]
    },
    {
      "cell_type": "code",
      "source": [
        "# Constants used in the hash function\n",
        "## Choose prime p - 257\n",
        "p = primegen(1001) # public"
      ],
      "metadata": {
        "id": "F3d35vFX3fiC"
      },
      "execution_count": 126,
      "outputs": []
    },
    {
      "cell_type": "code",
      "source": [
        "## Choose q such that `q % p == 1` or `p | (q - 1)` - 257*6 + 1\n",
        "q = [keygen(x) for x in p] # public"
      ],
      "metadata": {
        "id": "d95JbPTs3iry"
      },
      "execution_count": 127,
      "outputs": []
    },
    {
      "cell_type": "code",
      "source": [
        "## a random number g\n",
        "g = [random.randint(50, 100) for i in range(BLOCK_LEN)] # public"
      ],
      "metadata": {
        "id": "MvzdF-_p3lle"
      },
      "execution_count": 128,
      "outputs": []
    },
    {
      "cell_type": "code",
      "source": [
        "## generate fuzz factors k\n",
        "k = [random.randint(15, 50) for i in range(BLOCK_LEN)] # private"
      ],
      "metadata": {
        "id": "bOS4TSQOPVVK"
      },
      "execution_count": 129,
      "outputs": []
    },
    {
      "cell_type": "code",
      "source": [
        "# Calculate all the hashes from all parties\n",
        "client_tmp = client_hash(m, g, q, p)\n",
        "client_tmp_obf = client_hash(m, g, q, p, k)\n",
        "server_tmp = server_hash(m, g, q, p)\n",
        "server_tmp_obf = server_hash(m, g, q, p, k)"
      ],
      "metadata": {
        "id": "MO-7_NSDIZFI"
      },
      "execution_count": 130,
      "outputs": []
    },
    {
      "cell_type": "code",
      "source": [
        "print(\"\\nHash Function:\\n\\t H(x, a, b, k) = a^(k.x) (mod b)\\n\")\n",
        "print(\"Data generated: \")\n",
        "print(\"\\n\\t Input (inp): \")\n",
        "print(\"\\t\", inp)\n",
        "print(\"\\n\\t Input encoded into blocks (M): \")\n",
        "print(\"\\t\", m)\n",
        "print(\"\\n\\t Primes generated (P): \")\n",
        "print(\"\\t\", p)\n",
        "print(\"\\n\\t Dependent primes (Q[i] | Q[i] % P[i] == 1): \")\n",
        "print(\"\\t\", q)\n",
        "print(\"\\n\\t Bases (G): \")\n",
        "print(\"\\t\", g)\n",
        "print(\"\\n\\t Fuzz factors (K): \")\n",
        "print(\"\\t\", k)\n",
        "print(\"\\n\")\n",
        "\n",
        "print(\"Clean data: \")\n",
        "print(\"\\nClient: \")\n",
        "print(\"\\n\\tClient's Hash: \", client_tmp)\n",
        "print(\"\\nServers: \")\n",
        "print(\"\\n\\tIndividual server computation: \")\n",
        "print(\"\\tServer's hash: \", server_tmp[1])\n",
        "print(\"\\n\\tNetwork wide computation: \")\n",
        "print(\"\\tDistributed hash: \", server_tmp[0])\n",
        "if(client_tmp == server_tmp[0]):\n",
        "    print(\"\\nChecking:\\n\\n\\tHashes are equal!\")\n",
        "print(\"\\n\")\n",
        "\n",
        "print(\"Obfuscated data: \")\n",
        "print(\"\\nClient: \")\n",
        "print(\"\\n\\tClient's Hash: \", client_tmp_obf)\n",
        "print(\"\\nServers: \")\n",
        "print(\"\\n\\tIndividual server computation: \")\n",
        "print(\"\\tServer's Hash: \", server_tmp_obf[1])\n",
        "print(\"\\n\\tNetwork wide computation: \")\n",
        "print(\"\\tDistributed hash: \", server_tmp_obf[0])\n",
        "if(client_tmp_obf == server_tmp_obf[0]):\n",
        "    print(\"\\nChecking:\\n\\n\\tObfuscated hashes are equal!\")\n",
        "print(\"\\n\")"
      ],
      "metadata": {
        "id": "foR-_iwfHPxM",
        "colab": {
          "base_uri": "https://localhost:8080/"
        },
        "outputId": "bfd60b36-8432-4719-ba57-6a4a5276b9ee"
      },
      "execution_count": 132,
      "outputs": [
        {
          "output_type": "stream",
          "name": "stdout",
          "text": [
            "\n",
            "Hash Function:\n",
            "\t H(x, a, b, k) = a^(k.x) (mod b)\n",
            "\n",
            "Data generated: \n",
            "\n",
            "\t Input (inp): \n",
            "\t ACM rocks \n",
            "\n",
            "\t Input encoded into blocks (M): \n",
            "\t [[65, 67, 77, 32, 114], [111, 99, 107, 115, 32]]\n",
            "\n",
            "\t Primes generated (P): \n",
            "\t [1009, 1013, 1019, 1021, 1031]\n",
            "\n",
            "\t Dependent primes (Q[i] | Q[i] % P[i] == 1): \n",
            "\t [12109, 20261, 38723, 30631, 37117]\n",
            "\n",
            "\t Bases (G): \n",
            "\t [99, 51, 87, 100, 76]\n",
            "\n",
            "\t Fuzz factors (K): \n",
            "\t [26, 36, 18, 38, 34]\n",
            "\n",
            "\n",
            "Clean data: \n",
            "\n",
            "Client: \n",
            "\n",
            "\tClient's Hash:  [7202, 19084, 1342, 14531, 22183]\n",
            "\n",
            "Servers: \n",
            "\n",
            "\tIndividual server computation: \n",
            "\tServer's hash:  [[5988, 4531, 26863, 20204, 14146], [4535, 13361, 1221, 7143, 23855]]\n",
            "\n",
            "\tNetwork wide computation: \n",
            "\tDistributed hash:  [7202, 19084, 1342, 14531, 22183]\n",
            "\n",
            "Checking:\n",
            "\n",
            "\tHashes are equal!\n",
            "\n",
            "\n",
            "Obfuscated data: \n",
            "\n",
            "Client: \n",
            "\n",
            "\tClient's Hash:  [9884, 5640, 7621, 16350, 19181]\n",
            "\n",
            "Servers: \n",
            "\n",
            "\tIndividual server computation: \n",
            "\tServer's Hash:  [[9743, 7194, 13091, 18540, 8849], [2217, 11424, 36582, 1240, 31314]]\n",
            "\n",
            "\tNetwork wide computation: \n",
            "\tDistributed hash:  [9884, 5640, 7621, 16350, 19181]\n",
            "\n",
            "Checking:\n",
            "\n",
            "\tObfuscated hashes are equal!\n",
            "\n",
            "\n"
          ]
        }
      ]
    }
  ]
}