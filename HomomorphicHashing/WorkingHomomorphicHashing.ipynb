{
  "nbformat": 4,
  "nbformat_minor": 0,
  "metadata": {
    "colab": {
      "provenance": []
    },
    "kernelspec": {
      "name": "python3",
      "display_name": "Python 3"
    },
    "language_info": {
      "name": "python"
    }
  },
  "cells": [
    {
      "cell_type": "markdown",
      "source": [
        "# Reference used: \n",
        "- https://dzone.com/articles/algorithm-week-homomorphic\n",
        "\n",
        "## Sub References: \n",
        "- https://www.cs.cmu.edu/~rwh/theses/okasaki.pdf\n",
        "- https://pdos.csail.mit.edu/papers/otfvec/paper.pdf, \n",
        "\n",
        "\n",
        "## Properties of a Homomorphic Function: \n",
        "\n",
        "    k.H(m + n + o) = k.H(m) + k.H(n) + k.H(o) = H(k.m) + H(k.n) + H(k.o)\n",
        "\n",
        "    The homomorphic hash function is:\n",
        "        H(x) = g^x (mod q)\n",
        "\n",
        "    here, sum = a + b + c + d + e -> sum is the key and\n",
        "    a, b, ..., e are the subkeys that are generated from the key"
      ],
      "metadata": {
        "id": "9iProQB99eUI"
      }
    },
    {
      "cell_type": "code",
      "execution_count": 64,
      "metadata": {
        "id": "Fgrlrbne10Z_"
      },
      "outputs": [],
      "source": [
        "# Reference used: \n",
        "## https://dzone.com/articles/algorithm-week-homomorphic\n",
        "## Sub References: https://www.cs.cmu.edu/~rwh/theses/okasaki.pdf, https://pdos.csail.mit.edu/papers/otfvec/paper.pdf, \n",
        "\n",
        "# Properties of a Homomorphic Function: kH(m + n + o) = H(km) + H(kn) + H(ko) = kH(m) + kH(n) + kH(o)\n",
        "# the homomorphic hash function is H(x) = g^x mod q\n",
        "# here, sum = a + b + c + d + e -> sum is the key and a, b, ..., e are the subkeys that are generated from the key\n",
        "\n",
        "# p  [1 2 3 4 5]\n",
        "# q  [1 2 3 4 5]\n",
        "# g  [1 2 3 4 5]\n",
        "# h  [1 2 3 4 5]\n",
        "# m [[1 2 3 4 5]\n",
        "#    [6 7 8 9 0]]\n",
        "# Hs [1 2 3 4 5]\n",
        "# S [[1 2 3 4 5]\n",
        "#    [6 7 8 9 0]]\n",
        "# Hp [1 2 3 4 5]"
      ]
    },
    {
      "cell_type": "code",
      "source": [
        "import random\n",
        "import math\n",
        "import pickle\n",
        "\n",
        "PASS_LEN = 10\n",
        "BLOCK_LEN = 5"
      ],
      "metadata": {
        "id": "wr2MJouw9Zy-"
      },
      "execution_count": 65,
      "outputs": []
    },
    {
      "cell_type": "code",
      "source": [
        "def isPrime(x: int) -> bool:\n",
        "    for i in range(2, int(math.sqrt(x)) + 1):\n",
        "        if(x % i == 0): return False\n",
        "    return True"
      ],
      "metadata": {
        "id": "75-X0Cg63Jk-"
      },
      "execution_count": 66,
      "outputs": []
    },
    {
      "cell_type": "code",
      "source": [
        "def keygen(P = 101) -> int:\n",
        "    keys = []\n",
        "    i = 1\n",
        "    # print(f\"P: {P}\\nQ:\")\n",
        "    while len(keys) < BLOCK_LEN:\n",
        "        Q = P * i + 1\n",
        "        if(isPrime(Q) and Q % P == 1):\n",
        "            # print(f\"\\t{Q}\")\n",
        "            keys.append(Q)\n",
        "        i+=1\n",
        "    k = random.randint(0, BLOCK_LEN-1)\n",
        "    print(f'keygen({P}): {keys} - {keys[k]}')\n",
        "    \n",
        "    return keys[k]"
      ],
      "metadata": {
        "id": "Wq0c5dI48yP1"
      },
      "execution_count": 67,
      "outputs": []
    },
    {
      "cell_type": "code",
      "source": [
        "def primegen(start = 101, step = 2) -> list:\n",
        "    i = start\n",
        "    primes = []\n",
        "    while (len(primes) < BLOCK_LEN):\n",
        "        if(isPrime(i)):\n",
        "            primes.append(i)\n",
        "        i+=step\n",
        "\n",
        "    # print(f'primes({start}, {step}): {primes}')\n",
        "    return primes"
      ],
      "metadata": {
        "id": "rN1Rmmqt82Ea"
      },
      "execution_count": 68,
      "outputs": []
    },
    {
      "cell_type": "code",
      "source": [
        "def HomoHash(a: int, b: int, x: int, k = 1) -> int:\n",
        "    return pow(a, k*x, b)"
      ],
      "metadata": {
        "id": "oLVgrXzA8V7n"
      },
      "execution_count": 69,
      "outputs": []
    },
    {
      "cell_type": "code",
      "source": [
        "def obfuscate(x: list, k = [1 for j in range(BLOCK_LEN)]) -> list:\n",
        "    obfuscated_message = [[0 for j in range(BLOCK_LEN)] for i in range(len(x))] \n",
        "    for i in range(len(x)):\n",
        "        for j in range(BLOCK_LEN):\n",
        "            obfuscated_message[i][j] = x[i][j]*k[j]\n",
        "            # print(f\"obfuscated_message[{i}][{j}] = x[{i}][{j}]*k[{j}] = {x[i][j]}*{k[j]} = {obfuscated_message[i][j]}\")\n",
        "    return obfuscated_message\n",
        "\n",
        "# test = [[113, 119, 101, 114, 116], [121, 117, 105, 111, 112]]\n",
        "# print(obfuscate(test))"
      ],
      "metadata": {
        "id": "37Om2DGu8lur"
      },
      "execution_count": 80,
      "outputs": []
    },
    {
      "cell_type": "code",
      "source": [
        "def client_hash(x: list, g: list, q: list, p: list, k = [1 for j in range(BLOCK_LEN)])  -> tuple:\n",
        "    '''\n",
        "    implements \"add\": g^k(a+b) (mod q)\n",
        "    # to compute the hash:\n",
        "    ## compute the sum of the characters by adding each one\n",
        "    ## hash that sum by raising g to the power of the sum (mod q)\n",
        "    '''\n",
        "    sums = [0 for j in range(BLOCK_LEN)]\n",
        "    hashed_sums = [0 for j in range(BLOCK_LEN)]\n",
        "    for i in range(BLOCK_LEN): # for i in range(0, PASS_LEN//BLOCK_LEN + 1): sum+= i%p\n",
        "        # sum = 0 and replace hashed_sums with sum\n",
        "        for j in range(len(x)):\n",
        "            sums[i] += (x[j][i] % p[i])\n",
        "        sums[i] %= p[i]\n",
        "        hashed_sums[i] = HomoHash(g[i], q[i], k[i]*(sums[i]))\n",
        "    return sums, hashed_sums"
      ],
      "metadata": {
        "id": "ov8RwO9t8dyx"
      },
      "execution_count": 81,
      "outputs": []
    },
    {
      "cell_type": "code",
      "source": [
        "def server_hash(x: list, g: list, q: list, p: list, k = [1 for j in range(BLOCK_LEN)])  -> tuple:\n",
        "    '''\n",
        "    implements \"multiply\": g^k.a * g^k.b (mod q)\n",
        "    # hashed_products are the keys computed by each individual server\n",
        "    # to compute the hash:\n",
        "    ## compute the hash of each individual character by raising g to the power of the character (mod q)\n",
        "    ## compute the \"sum\" of the hashes of the individual characters by multiplying them (mod q)\n",
        "    '''\n",
        "\n",
        "    hashed_products = [[1 for j in range(BLOCK_LEN)] for i in range(len(x))]\n",
        "    products = [0 for j in range(BLOCK_LEN)]\n",
        "    # for i in range(0, PASS_LEN//BLOCK_LEN + 1): product *= pow(g, q, x[i]%p)\n",
        "    for i in range(BLOCK_LEN):\n",
        "        for j in range(len(x)):\n",
        "            temp = HomoHash(g[i], q[i], k[i]*x[j][i])\n",
        "            hashed_products[j][i] = temp\n",
        "            products[i] *= temp\n",
        "            products[i] %= q[i]\n",
        "    print(hashed_products)\n",
        "    return products, hashed_products"
      ],
      "metadata": {
        "id": "NKR0WUZe8gqp"
      },
      "execution_count": 82,
      "outputs": []
    },
    {
      "cell_type": "code",
      "source": [
        "# Variables used in the script\n",
        "# get password from the user\n",
        "inp = 'qwertyuiop' # input(\"10 Characters: \") # private\n",
        "inp += ' '*(PASS_LEN-len(inp))\n",
        "# hash message\n",
        "m = [[ord(inp[i+j]) for j in range(BLOCK_LEN)] for i in range(0, PASS_LEN, BLOCK_LEN)] # private\n",
        "S = [[0 for j in range(BLOCK_LEN)] for i in range(len(m))] # distributed\n",
        "# Hp = [0 for j in range(BLOCK_LEN)] # public\n",
        "# Hs = [0 for j in range(BLOCK_LEN)] # public\n",
        "\n",
        "print(inp)\n",
        "print(m)"
      ],
      "metadata": {
        "colab": {
          "base_uri": "https://localhost:8080/"
        },
        "id": "IOWUDote2IVm",
        "outputId": "bda7e10a-d1d3-463d-c362-4aac2c4ab89f"
      },
      "execution_count": 83,
      "outputs": [
        {
          "output_type": "stream",
          "name": "stdout",
          "text": [
            "[[113, 119, 101, 114, 116], [121, 117, 105, 111, 112]]\n"
          ]
        }
      ]
    },
    {
      "cell_type": "markdown",
      "source": [
        "Constants used in the hash function"
      ],
      "metadata": {
        "id": "9NSJxDOT89-P"
      }
    },
    {
      "cell_type": "code",
      "source": [
        "# Constants used in the hash function\n",
        "## Choose prime p - 257\n",
        "p = primegen() # public\n",
        "print(p)"
      ],
      "metadata": {
        "colab": {
          "base_uri": "https://localhost:8080/"
        },
        "id": "F3d35vFX3fiC",
        "outputId": "ae3a294f-b295-4c76-f37b-dfae3804ad51"
      },
      "execution_count": 74,
      "outputs": [
        {
          "output_type": "stream",
          "name": "stdout",
          "text": [
            "[101, 103, 107, 109, 113]\n"
          ]
        }
      ]
    },
    {
      "cell_type": "code",
      "source": [
        "## Choose q such that `q % p == 1` or `p | (q - 1)` - 257*6 + 1\n",
        "q = [keygen(x) for x in p] # public"
      ],
      "metadata": {
        "colab": {
          "base_uri": "https://localhost:8080/"
        },
        "id": "d95JbPTs3iry",
        "outputId": "3cea3e9f-2c83-4d3d-bb3e-f96e92e24f57"
      },
      "execution_count": 75,
      "outputs": [
        {
          "output_type": "stream",
          "name": "stdout",
          "text": [
            "keygen(101): [607, 809, 1213, 3637, 4243] - 1213\n",
            "keygen(103): [619, 1031, 1237, 2267, 2473] - 619\n",
            "keygen(107): [643, 857, 1499, 2141, 3853] - 1499\n",
            "keygen(109): [1091, 2399, 2617, 3271, 5233] - 2399\n",
            "keygen(113): [227, 1583, 2713, 2939, 3391] - 2713\n"
          ]
        }
      ]
    },
    {
      "cell_type": "code",
      "source": [
        "## a random number g\n",
        "g = [random.randint(100, 500) for i in range(BLOCK_LEN)] # public\n",
        "## generate fuzz factors k\n",
        "k = [random.randint(15, 100) for i in range(BLOCK_LEN)] # private\n",
        "# hashes computed at each server, same length as the input + padding\n",
        "print(f'g: {g}')\n",
        "print(f'k: {k}')"
      ],
      "metadata": {
        "colab": {
          "base_uri": "https://localhost:8080/"
        },
        "id": "MvzdF-_p3lle",
        "outputId": "41615af2-b058-4053-f70c-d9a757d6edff"
      },
      "execution_count": 76,
      "outputs": [
        {
          "output_type": "stream",
          "name": "stdout",
          "text": [
            "g: [266, 126, 339, 447, 175]\n",
            "k: [61, 98, 94, 65, 64]\n"
          ]
        }
      ]
    },
    {
      "cell_type": "code",
      "source": [
        "Hs1 = client_hash(m, g, q, p)\n",
        "Hp1, S1 = server_hash(m, g, q, p)\n",
        "\n",
        "Hs = client_hash(m, g, q, p, k)\n",
        "Hp, S = server_hash(m, g, q, p, k)"
      ],
      "metadata": {
        "colab": {
          "base_uri": "https://localhost:8080/"
        },
        "id": "_cZlwdSZ2M6O",
        "outputId": "8db74470-7d5a-4e93-d288-385faaab6a6d"
      },
      "execution_count": 84,
      "outputs": [
        {
          "output_type": "stream",
          "name": "stdout",
          "text": [
            "[[1115, 527, 93, 883, 1200], [180, 114, 1006, 1985, 2682]]\n",
            "[[1127, 51, 511, 2325, 1383], [1195, 73, 1211, 1538, 1959]]\n"
          ]
        }
      ]
    },
    {
      "cell_type": "code",
      "source": [],
      "metadata": {
        "id": "Bg4TPN5XHPau"
      },
      "execution_count": null,
      "outputs": []
    },
    {
      "cell_type": "code",
      "source": [
        "print(client_hash(m, g, q, p))\n",
        "print(server_hash(m, g, q, p))\n",
        "\n",
        "print(client_hash(m, g, q, p, k))\n",
        "print(server_hash(m, g, q, p, k))"
      ],
      "metadata": {
        "colab": {
          "base_uri": "https://localhost:8080/"
        },
        "outputId": "1cb5c809-228b-4d55-d663-c4fb1a68efb9",
        "id": "foR-_iwfHPxM"
      },
      "execution_count": 87,
      "outputs": [
        {
          "output_type": "stream",
          "name": "stdout",
          "text": [
            "([32, 30, 99, 7, 2], [658, 35, 1245, 849, 782])\n",
            "[[1115, 527, 93, 883, 1200], [180, 114, 1006, 1985, 2682]]\n",
            "([0, 0, 0, 0, 0], [[1115, 527, 93, 883, 1200], [180, 114, 1006, 1985, 2682]])\n",
            "([32, 30, 99, 7, 2], [878, 9, 584, 2276, 1723])\n",
            "[[1127, 51, 511, 2325, 1383], [1195, 73, 1211, 1538, 1959]]\n",
            "([0, 0, 0, 0, 0], [[1127, 51, 511, 2325, 1383], [1195, 73, 1211, 1538, 1959]])\n"
          ]
        }
      ]
    },
    {
      "cell_type": "code",
      "source": [
        "print(f\"\"\"\\nmessage (primary key):\\n{obfuscate(m)}\\n\n",
        "obfuscated sub keys (sent to each server):\\n{obfuscate(m, k)}\\n\n",
        "hashes (generated by each server):\\n{S}\\n\n",
        "sum_hash (hashing entire message - done by client):\\n{Hs1}\\n\n",
        "product (hashing each block and then adding the hashes - done by the distributed network):\\n{Hp1}\\n\n",
        "k_sum (obfuscated sum_hash):\\n{Hs}\\n\n",
        "k_product (obfuscated product_hash):\\n{Hp}\\n\n",
        "k_server (obfuscated hashes calculated on the server):\\n{S1}\"\"\")"
      ],
      "metadata": {
        "colab": {
          "base_uri": "https://localhost:8080/"
        },
        "id": "rN7umwdj8B51",
        "outputId": "dc2aaa67-e6f0-4689-9463-fb5b8f6a187f"
      },
      "execution_count": 86,
      "outputs": [
        {
          "output_type": "stream",
          "name": "stdout",
          "text": [
            "\n",
            "message (primary key):\n",
            "[[113, 119, 101, 114, 116], [121, 117, 105, 111, 112]]\n",
            "\n",
            "obfuscated sub keys (sent to each server):\n",
            "[[6893, 11662, 9494, 7410, 7424], [7381, 11466, 9870, 7215, 7168]]\n",
            "\n",
            "hashes (generated by each server):\n",
            "[[1127, 51, 511, 2325, 1383], [1195, 73, 1211, 1538, 1959]]\n",
            "\n",
            "sum_hash (hashing entire message - done by client):\n",
            "([32, 30, 99, 7, 2], [658, 35, 1245, 849, 782])\n",
            "\n",
            "product (hashing each block and then adding the hashes - done by the distributed network):\n",
            "[0, 0, 0, 0, 0]\n",
            "\n",
            "k_sum (obfuscated sum_hash):\n",
            "([32, 30, 99, 7, 2], [878, 9, 584, 2276, 1723])\n",
            "\n",
            "k_product (obfuscated product_hash):\n",
            "[0, 0, 0, 0, 0]\n",
            "\n",
            "k_server (obfuscated hashes calculated on the server):\n",
            "[[1115, 527, 93, 883, 1200], [180, 114, 1006, 1985, 2682]]\n"
          ]
        }
      ]
    },
    {
      "cell_type": "code",
      "source": [
        "\n",
        "'''\n",
        "if(sum_hash == product_hash):\n",
        "    print(\"Hashes are equal!\")\n",
        "\n",
        "if(k_sum == k_product):\n",
        "    print(\"Obfuscated hashes are equal!\")\n",
        "'''"
      ],
      "metadata": {
        "colab": {
          "base_uri": "https://localhost:8080/",
          "height": 35
        },
        "id": "Z8eMpvNF8HTo",
        "outputId": "16924f60-23b5-43ce-c46f-dc22f880be5f"
      },
      "execution_count": 79,
      "outputs": [
        {
          "output_type": "execute_result",
          "data": {
            "text/plain": [
              "'\\nif(sum_hash == product_hash):\\n    print(\"Hashes are equal!\")\\n\\nif(k_sum == k_product):\\n    print(\"Obfuscated hashes are equal!\")\\n'"
            ],
            "application/vnd.google.colaboratory.intrinsic+json": {
              "type": "string"
            }
          },
          "metadata": {},
          "execution_count": 79
        }
      ]
    }
  ]
}