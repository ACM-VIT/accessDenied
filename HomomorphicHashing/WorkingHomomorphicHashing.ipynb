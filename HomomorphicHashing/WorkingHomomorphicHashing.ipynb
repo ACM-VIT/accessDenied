{
  "nbformat": 4,
  "nbformat_minor": 0,
  "metadata": {
    "colab": {
      "provenance": []
    },
    "kernelspec": {
      "name": "python3",
      "display_name": "Python 3"
    },
    "language_info": {
      "name": "python"
    }
  },
  "cells": [
    {
      "cell_type": "markdown",
      "source": [
        "# Reference used: \n",
        "- https://dzone.com/articles/algorithm-week-homomorphic\n",
        "\n",
        "## Sub References: \n",
        "- https://www.cs.cmu.edu/~rwh/theses/okasaki.pdf\n",
        "- https://pdos.csail.mit.edu/papers/otfvec/paper.pdf, \n",
        "\n",
        "\n",
        "## Properties of a Homomorphic Function: \n",
        "\n",
        "    k.H(m + n + o) = k.H(m) + k.H(n) + k.H(o) = H(k.m) + H(k.n) + H(k.o)\n",
        "\n",
        "    The homomorphic hash function is:\n",
        "        H(x) = g^x (mod q)\n",
        "\n",
        "    here, sum = a + b + c + d + e -> sum is the key and\n",
        "    a, b, ..., e are the subkeys that are generated from the key"
      ],
      "metadata": {
        "id": "9iProQB99eUI"
      }
    },
    {
      "cell_type": "code",
      "source": [
        "import random\n",
        "import math\n",
        "import pickle\n",
        "\n",
        "PASS_LEN = 10\n",
        "BLOCK_LEN = 5"
      ],
      "metadata": {
        "id": "wr2MJouw9Zy-"
      },
      "execution_count": 71,
      "outputs": []
    },
    {
      "cell_type": "code",
      "source": [
        "def isPrime(x: int) -> bool:\n",
        "    '''\n",
        "    Checks if the given number is a prime\n",
        "    '''\n",
        "    for i in range(2, int(math.sqrt(x)) + 1):\n",
        "        if(x % i == 0):\n",
        "            return False\n",
        "\n",
        "    return True"
      ],
      "metadata": {
        "id": "75-X0Cg63Jk-"
      },
      "execution_count": 72,
      "outputs": []
    },
    {
      "cell_type": "code",
      "source": [
        "def primegen(start = 1001, step = 1) -> list:\n",
        "    '''\n",
        "    Generates a set of primes P to be used for for hashing\n",
        "    '''\n",
        "    i = start\n",
        "    primes = []\n",
        "    while (len(primes) < BLOCK_LEN):\n",
        "        if(isPrime(i)):\n",
        "            primes.append(i)\n",
        "        i+=step\n",
        "    # print(f'primes({start}, {step}): {primes}')\n",
        "\n",
        "    return primes"
      ],
      "metadata": {
        "id": "Wq0c5dI48yP1"
      },
      "execution_count": 73,
      "outputs": []
    },
    {
      "cell_type": "code",
      "source": [
        "def keygen(P = 1001) -> int:\n",
        "    '''\n",
        "    Generates a set of primes Q to be used for hashing\n",
        "    Q follows the property: Q % P == 1\n",
        "    '''\n",
        "    keys = []\n",
        "    i = 1\n",
        "    # print(f\"P: {P}\\nQ:\")\n",
        "    while len(keys) < BLOCK_LEN:\n",
        "        Q = P * i + 1\n",
        "        if(isPrime(Q) and Q % P == 1):\n",
        "            # print(f\"\\t{Q}\")\n",
        "            keys.append(Q)\n",
        "        i+=1\n",
        "    k = random.randint(0, BLOCK_LEN-1)\n",
        "    # print(f'keygen({P}): {keys} - {keys[k]}')\n",
        "    \n",
        "    return keys[k]"
      ],
      "metadata": {
        "id": "rN1Rmmqt82Ea"
      },
      "execution_count": 74,
      "outputs": []
    },
    {
      "cell_type": "code",
      "source": [
        "def HomoHash(a: int, b: int, x: int, k = 1) -> int:\n",
        "    '''\n",
        "    The main homomorphic hash function: a^(k.x) (mod b)\n",
        "    '''\n",
        "    return pow(a, k*x, b)"
      ],
      "metadata": {
        "id": "oLVgrXzA8V7n"
      },
      "execution_count": 75,
      "outputs": []
    },
    {
      "cell_type": "code",
      "source": [
        "def obfuscate(x: list, k = [1 for j in range(BLOCK_LEN)]) -> list:\n",
        "    '''\n",
        "    Obfuscates all the subkeys to be sent by multiplying them with a random secret number k\n",
        "    '''\n",
        "    obfuscated_message = [[0 for j in range(BLOCK_LEN)] for i in range(len(x))] \n",
        "    for i in range(len(x)):\n",
        "        for j in range(BLOCK_LEN):\n",
        "            obfuscated_message[i][j] = x[i][j]*k[j]\n",
        "            # print(f\"obfuscated_message[{i}][{j}] = x[{i}][{j}]*k[{j}] = {x[i][j]}*{k[j]} = {obfuscated_message[i][j]}\")\n",
        "\n",
        "    return obfuscated_message"
      ],
      "metadata": {
        "id": "37Om2DGu8lur"
      },
      "execution_count": 76,
      "outputs": []
    },
    {
      "cell_type": "code",
      "source": [
        "def client_hash(x: list, g: list, q: list, p: list, k = [1 for j in range(BLOCK_LEN)])  -> list:\n",
        "    '''\n",
        "    implements \"add\": g^k(a+b) (mod q)\n",
        "    # to compute the hash:\n",
        "    ## compute the sum of the characters by adding each one\n",
        "    ## hash that sum by raising g to the power of the sum (mod q)\n",
        "    '''\n",
        "    sums = [0 for j in range(BLOCK_LEN)]\n",
        "    hashed_sums = [0 for j in range(BLOCK_LEN)]\n",
        "    for i in range(BLOCK_LEN): # for i in range(0, PASS_LEN//BLOCK_LEN + 1): sum+= i%p\n",
        "        # sum = 0 and replace hashed_sums with sum\n",
        "        for j in range(len(x)):\n",
        "            sums[i] += (x[j][i] % p[i])\n",
        "        sums[i] %= p[i]\n",
        "        hashed_sums[i] = HomoHash(g[i], q[i], k[i]*(sums[i]))\n",
        "    # print(hashed_sums)\n",
        "    \n",
        "    return hashed_sums"
      ],
      "metadata": {
        "id": "ov8RwO9t8dyx"
      },
      "execution_count": 77,
      "outputs": []
    },
    {
      "cell_type": "code",
      "source": [
        "def server_hash(x: list, g: list, q: list, p: list, k = [1 for j in range(BLOCK_LEN)])  -> tuple:\n",
        "    '''\n",
        "    implements \"multiply\": g^k.a * g^k.b (mod q)\n",
        "    # hashed_products are the keys computed by each individual server\n",
        "    # to compute the hash:\n",
        "    ## compute the hash of each individual character by raising g to the power of the character (mod q)\n",
        "    ## compute the \"sum\" of the hashes of the individual characters by multiplying them (mod q)\n",
        "    '''\n",
        "    hashed_products = [[1 for j in range(BLOCK_LEN)] for i in range(len(x))]\n",
        "    products = [1 for j in range(BLOCK_LEN)]\n",
        "    # for i in range(0, PASS_LEN//BLOCK_LEN + 1): product *= pow(g, q, x[i]%p)\n",
        "    for i in range(BLOCK_LEN):\n",
        "        for j in range(len(x)):\n",
        "            temp = HomoHash(g[i], q[i], k[i]*x[j][i])\n",
        "            hashed_products[j][i] = temp\n",
        "            products[i] *= temp\n",
        "            products[i] %= q[i]\n",
        "    # print(products)\n",
        "    # print(hashed_products)\n",
        "\n",
        "    return products, hashed_products"
      ],
      "metadata": {
        "id": "NKR0WUZe8gqp"
      },
      "execution_count": 78,
      "outputs": []
    },
    {
      "cell_type": "code",
      "source": [
        "# Variables used in the script\n",
        "# get password from the user\n",
        "inp = input(\"10 Characters: \") # private\n",
        "# 'qwertyuiop'  \n",
        "inp += ' '*(PASS_LEN-len(inp))\n",
        "# hash message\n",
        "m = [[ord(inp[i+j]) for j in range(BLOCK_LEN)] for i in range(0, PASS_LEN, BLOCK_LEN)] # private\n",
        "S = [[0 for j in range(BLOCK_LEN)] for i in range(len(m))] # distributed"
      ],
      "metadata": {
        "colab": {
          "base_uri": "https://localhost:8080/"
        },
        "id": "IOWUDote2IVm",
        "outputId": "af6d7fce-65b6-4785-f9eb-180e33d04884"
      },
      "execution_count": 79,
      "outputs": [
        {
          "name": "stdout",
          "output_type": "stream",
          "text": [
            "10 Characters: qwertyuiop\n"
          ]
        }
      ]
    },
    {
      "cell_type": "code",
      "source": [
        "# Constants used in the hash function\n",
        "## Choose prime p - 257\n",
        "p = primegen(1001) # public"
      ],
      "metadata": {
        "id": "F3d35vFX3fiC"
      },
      "execution_count": 80,
      "outputs": []
    },
    {
      "cell_type": "code",
      "source": [
        "## Choose q such that `q % p == 1` or `p | (q - 1)` - 257*6 + 1\n",
        "q = [keygen(x) for x in p] # public"
      ],
      "metadata": {
        "colab": {
          "base_uri": "https://localhost:8080/"
        },
        "id": "d95JbPTs3iry",
        "outputId": "40b94fd4-482c-49d4-a4aa-c27231fe6451"
      },
      "execution_count": 81,
      "outputs": [
        {
          "output_type": "stream",
          "name": "stdout",
          "text": [
            "keygen(1009): [10091, 12109, 30271, 40361, 42379] - 12109\n",
            "keygen(1013): [2027, 6079, 12157, 20261, 26339] - 6079\n",
            "keygen(1019): [2039, 32609, 38723, 50951, 61141] - 61141\n",
            "keygen(1021): [10211, 12253, 18379, 30631, 40841] - 40841\n",
            "keygen(1031): [2063, 12373, 30931, 32993, 37117] - 37117\n"
          ]
        }
      ]
    },
    {
      "cell_type": "code",
      "source": [
        "## a random number g\n",
        "g = [random.randint(50, 100) for i in range(BLOCK_LEN)] # public"
      ],
      "metadata": {
        "id": "MvzdF-_p3lle"
      },
      "execution_count": 82,
      "outputs": []
    },
    {
      "cell_type": "code",
      "source": [
        "## generate fuzz factors k\n",
        "k = [random.randint(15, 50) for i in range(BLOCK_LEN)] # private"
      ],
      "metadata": {
        "id": "bOS4TSQOPVVK"
      },
      "execution_count": null,
      "outputs": []
    },
    {
      "cell_type": "code",
      "source": [
        "# Calculate all the hashes from all parties\n",
        "client_tmp = client_hash(m, g, q, p)\n",
        "client_tmp_obf = client_hash(m, g, q, p, k)\n",
        "server_tmp = server_hash(m, g, q, p)\n",
        "server_tmp_obf = server_hash(m, g, q, p, k)"
      ],
      "metadata": {
        "id": "MO-7_NSDIZFI"
      },
      "execution_count": 83,
      "outputs": []
    },
    {
      "cell_type": "code",
      "source": [
        "print(\"Data generated: \")\n",
        "print(\"\\n\\tInput: \")\n",
        "print(\"\\t\",inp)\n",
        "print(\"\\n\\tInput encoded into blocks: \")\n",
        "print(\"\\t\",m)\n",
        "print(\"\\n\\tPrimes generated (P): \")\n",
        "print(\"\\t\",p)\n",
        "print(\"\\n\\tDependent primes (Q: Q % P == 1): \")\n",
        "print(\"\\t\",g)\n",
        "print(\"\\n\\tFuzz factors: \")\n",
        "print(\"\\t\",k)\n",
        "print(\"\\n\")\n",
        "\n",
        "print(\"Clean data: \")\n",
        "print(\"\\n\\tClient side:\")\n",
        "print(\"\\t\",client_tmp)\n",
        "print(\"\\n\\tServer side: \")\n",
        "print(\"\\n\\tIndividual server computation: \")\n",
        "print(\"\\t\",server_tmp[1])\n",
        "print(\"\\n\\tNetwork wide computation: \")\n",
        "print(\"\\t\",server_tmp[0])\n",
        "if(client_tmp == server_tmp[0]):\n",
        "    print(\"\\n\\tHashes are equal!\")\n",
        "print(\"\\n\")\n",
        "\n",
        "print(\"Obfuscated data: \")\n",
        "print(\"\\n\\tClient side:\")\n",
        "print(\"\\t\",client_tmp_obf)\n",
        "print(\"\\n\\tServer side: \")\n",
        "print(\"\\n\\tIndividual server computation: \")\n",
        "print(\"\\t\",server_tmp_obf[1])\n",
        "print(\"\\n\\tNetwork wide computation: \")\n",
        "print(\"\\t\",server_tmp_obf[0])\n",
        "if(client_tmp_obf == server_tmp_obf[0]):\n",
        "    print(\"\\n\\tObfuscated hashes are equal!\")\n",
        "print(\"\\n\")"
      ],
      "metadata": {
        "id": "foR-_iwfHPxM",
        "colab": {
          "base_uri": "https://localhost:8080/"
        },
        "outputId": "5cd0b1c7-fdea-414e-dc22-9b69c0baf2b8"
      },
      "execution_count": 88,
      "outputs": [
        {
          "output_type": "stream",
          "name": "stdout",
          "text": [
            "Data generated: \n",
            "\n",
            "\tInput: \n",
            "\t qwertyuiop\n",
            "\n",
            "\tInput encoded into blocks: \n",
            "\t [[113, 119, 101, 114, 116], [121, 117, 105, 111, 112]]\n",
            "\n",
            "\tPrimes generated (P): \n",
            "\t [1009, 1013, 1019, 1021, 1031]\n",
            "\n",
            "\tDependent primes (Q: Q % P == 1): \n",
            "\t [58, 73, 80, 78, 57]\n",
            "\n",
            "\tFuzz factors: \n",
            "\t [30, 21, 33, 32, 40]\n",
            "\n",
            "\n",
            "Clean data: \n",
            "\n",
            "\tClient side:\n",
            "\t [10552, 2062, 39610, 34827, 4925]\n",
            "\n",
            "\tServer side: \n",
            "\n",
            "\tIndividual server computation: \n",
            "\t [[6853, 2106, 9262, 20574, 25675], [6117, 2137, 52458, 21113, 25805]]\n",
            "\n",
            "\tNetwork wide computation: \n",
            "\t [10552, 2062, 39610, 34827, 4925]\n",
            "\n",
            "\tHashes are equal!\n",
            "\n",
            "\n",
            "Obfuscated data: \n",
            "\n",
            "\tClient side:\n",
            "\t [485, 1043, 23172, 30269, 28928]\n",
            "\n",
            "\tServer side: \n",
            "\n",
            "\tIndividual server computation: \n",
            "\t [[7828, 3030, 5660, 6260, 374], [9187, 1170, 35306, 19388, 5238]]\n",
            "\n",
            "\tNetwork wide computation: \n",
            "\t [485, 1043, 23172, 30269, 28928]\n",
            "\n",
            "\tObfuscated hashes are equal!\n",
            "\n",
            "\n"
          ]
        }
      ]
    },
    {
      "cell_type": "code",
      "source": [
        "'''\n",
        "# Reference used: \n",
        "## https://dzone.com/articles/algorithm-week-homomorphic\n",
        "## Sub References: https://www.cs.cmu.edu/~rwh/theses/okasaki.pdf, https://pdos.csail.mit.edu/papers/otfvec/paper.pdf, \n",
        "\n",
        "# Properties of a Homomorphic Function: kH(m + n + o) = H(km) + H(kn) + H(ko) = kH(m) + kH(n) + kH(o)\n",
        "# the homomorphic hash function is H(x) = g^x mod q\n",
        "# here, sum = a + b + c + d + e -> sum is the key and a, b, ..., e are the subkeys that are generated from the key\n",
        "\n",
        "# p  [1 2 3 4 5]\n",
        "# q  [1 2 3 4 5]\n",
        "# g  [1 2 3 4 5]\n",
        "# h  [1 2 3 4 5]\n",
        "# m [[1 2 3 4 5]\n",
        "#    [6 7 8 9 0]]\n",
        "# Hs [1 2 3 4 5]\n",
        "# S [[1 2 3 4 5]\n",
        "#    [6 7 8 9 0]]\n",
        "# Hp [1 2 3 4 5]\n",
        "\n",
        "# test = [[113, 119, 101, 114, 116], [121, 117, 105, 111, 112]]\n",
        "# print(obfuscate(test))\n",
        "\n",
        "# Hp = [0 for j in range(BLOCK_LEN)] # public\n",
        "# Hs = [0 for j in range(BLOCK_LEN)] # public\n",
        "\n",
        "Hs1 = client_hash(m, g, q, p)\n",
        "\n",
        "# hashes computed at each server, same length as the input + padding\n",
        "Hp1 = server_hash(m, g, q, p)\n",
        "\n",
        "Hs = client_hash(m, g, q, p, k)\n",
        "\n",
        "# hashes computed at each server, same length as the input + padding - it has also been obfuscated\n",
        "\n",
        "Hp = server_hash(m, g, q, p, k)\n",
        "\n",
        "print(f\"\"\"\\nmessage (primary key):\\n{obfuscate(m)}\\n\n",
        "obfuscated sub keys (sent to each server):\\n{obfuscate(m, k)}\\n\n",
        "hashes (generated by each server):\\n{S}\\n\n",
        "sum_hash (hashing entire message - done by client):\\n{Hs1}\\n\n",
        "product (hashing each block and then adding the hashes - done by the distributed network):\\n{Hp1}\\n\n",
        "k_sum (obfuscated sum_hash):\\n{Hs}\\n\n",
        "k_product (obfuscated product_hash):\\n{Hp}\\n\n",
        "k_server (obfuscated hashes calculated on the server):\\n{S1}\"\"\")\n",
        "\n",
        "if(sum_hash == product_hash):\n",
        "    print(\"Hashes are equal!\")\n",
        "\n",
        "if(k_sum == k_product):\n",
        "    print(\"Obfuscated hashes are equal!\")\n",
        "\n",
        "'''"
      ],
      "metadata": {
        "colab": {
          "base_uri": "https://localhost:8080/",
          "height": 109
        },
        "id": "Z8eMpvNF8HTo",
        "outputId": "d1008fdf-8f7a-432a-e53e-ca98b52fa7cf"
      },
      "execution_count": 89,
      "outputs": [
        {
          "output_type": "execute_result",
          "data": {
            "text/plain": [
              "'\\n# Reference used: \\n## https://dzone.com/articles/algorithm-week-homomorphic\\n## Sub References: https://www.cs.cmu.edu/~rwh/theses/okasaki.pdf, https://pdos.csail.mit.edu/papers/otfvec/paper.pdf, \\n\\n# Properties of a Homomorphic Function: kH(m + n + o) = H(km) + H(kn) + H(ko) = kH(m) + kH(n) + kH(o)\\n# the homomorphic hash function is H(x) = g^x mod q\\n# here, sum = a + b + c + d + e -> sum is the key and a, b, ..., e are the subkeys that are generated from the key\\n\\n# p  [1 2 3 4 5]\\n# q  [1 2 3 4 5]\\n# g  [1 2 3 4 5]\\n# h  [1 2 3 4 5]\\n# m [[1 2 3 4 5]\\n#    [6 7 8 9 0]]\\n# Hs [1 2 3 4 5]\\n# S [[1 2 3 4 5]\\n#    [6 7 8 9 0]]\\n# Hp [1 2 3 4 5]\\n\\n# test = [[113, 119, 101, 114, 116], [121, 117, 105, 111, 112]]\\n# print(obfuscate(test))\\n\\n# Hp = [0 for j in range(BLOCK_LEN)] # public\\n# Hs = [0 for j in range(BLOCK_LEN)] # public\\n\\nHs1 = client_hash(m, g, q, p)\\n\\n# hashes computed at each server, same length as the input + padding\\nHp1 = server_hash(m, g, q, p)\\n\\nHs = client_hash(m, g, q, p, k)\\n\\n# hashes computed at each server, same length as the input + padding - it has also been obfuscated\\n\\nHp = server_hash(m, g, q, p, k)\\n\\nprint(f\"\"\"\\nmessage (primary key):\\n{obfuscate(m)}\\n\\nobfuscated sub keys (sent to each server):\\n{obfuscate(m, k)}\\n\\nhashes (generated by each server):\\n{S}\\n\\nsum_hash (hashing entire message - done by client):\\n{Hs1}\\n\\nproduct (hashing each block and then adding the hashes - done by the distributed network):\\n{Hp1}\\n\\nk_sum (obfuscated sum_hash):\\n{Hs}\\n\\nk_product (obfuscated product_hash):\\n{Hp}\\n\\nk_server (obfuscated hashes calculated on the server):\\n{S1}\"\"\")\\n\\nif(sum_hash == product_hash):\\n    print(\"Hashes are equal!\")\\n\\nif(k_sum == k_product):\\n    print(\"Obfuscated hashes are equal!\")\\n\\n'"
            ],
            "application/vnd.google.colaboratory.intrinsic+json": {
              "type": "string"
            }
          },
          "metadata": {},
          "execution_count": 89
        }
      ]
    }
  ]
}