{
  "cells": [
    {
      "attachments": {},
      "cell_type": "markdown",
      "metadata": {
        "id": "9iProQB99eUI"
      },
      "source": [
        "# Reference used: \n",
        "- https://dzone.com/articles/algorithm-week-homomorphic\n",
        "\n",
        "## Sub References: \n",
        "- https://www.cs.cmu.edu/~rwh/theses/okasaki.pdf\n",
        "- https://pdos.csail.mit.edu/papers/otfvec/paper.pdf, \n",
        "\n",
        "\n",
        "## Properties of a Homomorphic Function: \n",
        "\n",
        "    k.H(x)\n",
        "        = H(k.x)\n",
        "        = k.H(m + n + o + ... + t)\n",
        "        = H(k.(m + n + o + ... + t))\n",
        "        = H(k.m + k.n + k.o + ... + k.t)\n",
        "        = k.H(m) + k.H(n) + k.H(o) + ... + k.H(t)\n",
        "        = H(k.m) + H(k.n) + H(k.o) + ... + H(k.t)\n",
        "\n",
        "    The homomorphic hash function is:\n",
        "        H(k.x) = k.H(x) = a^(k.x) (mod b)\n",
        "\n",
        "    here, x = m + n + o + ... + t\n",
        "    x is the key and m, n, o, ..., t are the subkeys that are generated from the key"
      ]
    },
    {
      "cell_type": "code",
      "execution_count": 1,
      "metadata": {
        "id": "wr2MJouw9Zy-"
      },
      "outputs": [],
      "source": [
        "import random\n",
        "import math\n",
        "import json\n",
        "\n",
        "PASS_LEN = int(input(\"Enter maximum password length\"))\n",
        "BLOCK_LEN = int(input(\"Enter block size\"))"
      ]
    },
    {
      "cell_type": "code",
      "execution_count": null,
      "metadata": {
        "id": "75-X0Cg63Jk-"
      },
      "outputs": [],
      "source": [
        "def isPrime(x: int) -> bool:\n",
        "    '''\n",
        "    Checks if the given number is a prime\n",
        "    '''\n",
        "    for i in range(2, int(math.sqrt(x)) + 1):\n",
        "        if(x % i == 0):\n",
        "            return False\n",
        "\n",
        "    return True"
      ]
    },
    {
      "cell_type": "code",
      "execution_count": null,
      "metadata": {
        "id": "Wq0c5dI48yP1"
      },
      "outputs": [],
      "source": [
        "def primegen(start = 1001, step = 1) -> list:\n",
        "    '''\n",
        "    Generates a set of primes P to be used for for hashing\n",
        "    '''\n",
        "    i = start\n",
        "    primes = []\n",
        "    while (len(primes) < BLOCK_LEN):\n",
        "        if(isPrime(i)):\n",
        "            primes.append(i)\n",
        "        i+=step\n",
        "    # print(f'primes({start}, {step}): {primes}')\n",
        "\n",
        "    return primes"
      ]
    },
    {
      "cell_type": "code",
      "execution_count": null,
      "metadata": {
        "id": "rN1Rmmqt82Ea"
      },
      "outputs": [],
      "source": [
        "def keygen(P = 1001) -> int:\n",
        "    '''\n",
        "    Generates a set of primes Q to be used for hashing\n",
        "    Q follows the property: Q % P == 1\n",
        "    '''\n",
        "    keys = []\n",
        "    i = 1\n",
        "    # print(f\"P: {P}\\nQ:\")\n",
        "    while len(keys) < BLOCK_LEN:\n",
        "        Q = P * i + 1\n",
        "        if(isPrime(Q) and Q % P == 1):\n",
        "            # print(f\"\\t{Q}\")\n",
        "            keys.append(Q)\n",
        "        i+=1\n",
        "    k = random.randint(0, BLOCK_LEN-1)\n",
        "    # print(f'keygen({P}): {keys} - {keys[k]}')\n",
        "    \n",
        "    return keys[k]"
      ]
    },
    {
      "cell_type": "code",
      "execution_count": null,
      "metadata": {
        "id": "oLVgrXzA8V7n"
      },
      "outputs": [],
      "source": [
        "def HomoHash(a: int, b: int, x: int, k = 1) -> int:\n",
        "    '''\n",
        "    The main homomorphic hash function: a^(k.x) (mod b)\n",
        "    '''\n",
        "    return pow(a, k*x, b)"
      ]
    },
    {
      "cell_type": "code",
      "execution_count": null,
      "metadata": {
        "id": "37Om2DGu8lur"
      },
      "outputs": [],
      "source": [
        "def obfuscate(x: list, k = [1 for j in range(BLOCK_LEN)]) -> list:\n",
        "    '''\n",
        "    Obfuscates all the subkeys to be sent by multiplying them with a random secret number k\n",
        "    '''\n",
        "    obfuscated_message = [[0 for j in range(BLOCK_LEN)] for i in range(len(x))] \n",
        "    for i in range(len(x)):\n",
        "        for j in range(BLOCK_LEN):\n",
        "            obfuscated_message[i][j] = x[i][j]*k[j]\n",
        "            # print(f\"obfuscated_message[{i}][{j}] = x[{i}][{j}]*k[{j}] = {x[i][j]}*{k[j]} = {obfuscated_message[i][j]}\")\n",
        "\n",
        "    return obfuscated_message"
      ]
    },
    {
      "cell_type": "code",
      "execution_count": null,
      "metadata": {
        "id": "ov8RwO9t8dyx"
      },
      "outputs": [],
      "source": [
        "def client_hash(x: list, g: list, q: list, p: list, k = [1 for j in range(BLOCK_LEN)])  -> list:\n",
        "    '''\n",
        "    implements \"add\": g^k(a+b) (mod q)\n",
        "    # to compute the hash:\n",
        "    ## compute the sum of the characters by adding each one\n",
        "    ## hash that sum by raising g to the power of the sum (mod q)\n",
        "    '''\n",
        "    sums = [0 for j in range(BLOCK_LEN)]\n",
        "    hashed_sums = [0 for j in range(BLOCK_LEN)]\n",
        "    for i in range(BLOCK_LEN): # for i in range(0, PASS_LEN//BLOCK_LEN + 1): sum+= i%p\n",
        "        # sum = 0 and replace hashed_sums with sum\n",
        "        for j in range(len(x)):\n",
        "            sums[i] += (x[j][i] % p[i])\n",
        "        sums[i] %= p[i]\n",
        "        hashed_sums[i] = HomoHash(g[i], q[i], k[i]*(sums[i]))\n",
        "    # print(hashed_sums)\n",
        "    \n",
        "    return hashed_sums"
      ]
    },
    {
      "cell_type": "code",
      "execution_count": null,
      "metadata": {
        "id": "NKR0WUZe8gqp"
      },
      "outputs": [],
      "source": [
        "def server_hash(x: list, g: list, q: list, p: list, k = [1 for j in range(BLOCK_LEN)])  -> tuple:\n",
        "    '''\n",
        "    implements \"multiply\": g^k.a * g^k.b (mod q)\n",
        "    # hashed_products are the keys computed by each individual server\n",
        "    # to compute the hash:\n",
        "    ## compute the hash of each individual character by raising g to the power of the character (mod q)\n",
        "    ## compute the \"sum\" of the hashes of the individual characters by multiplying them (mod q)\n",
        "    '''\n",
        "    hashed_products = [[1 for j in range(BLOCK_LEN)] for i in range(len(x))]\n",
        "    products = [1 for j in range(BLOCK_LEN)]\n",
        "    # for i in range(0, PASS_LEN//BLOCK_LEN + 1): product *= pow(g, q, x[i]%p)\n",
        "    for i in range(BLOCK_LEN):\n",
        "        for j in range(len(x)):\n",
        "            temp = HomoHash(g[i], q[i], k[i]*x[j][i])\n",
        "            hashed_products[j][i] = temp\n",
        "            products[i] *= temp\n",
        "            products[i] %= q[i]\n",
        "    # print(products)\n",
        "    # print(hashed_products)\n",
        "\n",
        "    return products, hashed_products"
      ]
    },
    {
      "cell_type": "code",
      "execution_count": null,
      "metadata": {
        "colab": {
          "base_uri": "https://localhost:8080/"
        },
        "id": "IOWUDote2IVm",
        "outputId": "fadc30a2-91d0-439c-aae4-d8d8e3f7b84a"
      },
      "outputs": [
        {
          "name": "stdout",
          "output_type": "stream",
          "text": [
            "Enter a password with exactly 17 characters: somthign confusing for everyone that breaks things\n"
          ]
        }
      ],
      "source": [
        "# Variables used in the script\n",
        "# get password from the user\n",
        "inp = input(f\"Enter a password with maximum {PASS_LEN} characters: \") # private\n",
        "# 'qwertyuiop'  \n",
        "inp += ' '*(PASS_LEN-len(inp))\n",
        "# hash message\n",
        "m = [[ord(j) for j in inp[i:i+BLOCK_LEN]] for i in range(0, PASS_LEN, BLOCK_LEN)] # private\n",
        "S = [[0 for j in range(BLOCK_LEN)] for i in range(len(m))] # distributed"
      ]
    },
    {
      "cell_type": "code",
      "execution_count": null,
      "metadata": {
        "id": "F3d35vFX3fiC"
      },
      "outputs": [],
      "source": [
        "# Constants used in the hash function\n",
        "## Choose prime p - 257\n",
        "p = primegen(1001) # public"
      ]
    },
    {
      "cell_type": "code",
      "execution_count": null,
      "metadata": {
        "id": "d95JbPTs3iry"
      },
      "outputs": [],
      "source": [
        "## Choose q such that `q % p == 1` or `p | (q - 1)` - 257*6 + 1\n",
        "q = [keygen(x) for x in p] # public"
      ]
    },
    {
      "cell_type": "code",
      "execution_count": null,
      "metadata": {
        "id": "MvzdF-_p3lle"
      },
      "outputs": [],
      "source": [
        "## a random number g\n",
        "g = [random.randint(50, 100) for i in range(BLOCK_LEN)] # public"
      ]
    },
    {
      "cell_type": "code",
      "execution_count": null,
      "metadata": {
        "id": "bOS4TSQOPVVK"
      },
      "outputs": [],
      "source": [
        "## generate fuzz factors k\n",
        "k = [random.randint(15, 50) for i in range(BLOCK_LEN)] # private"
      ]
    },
    {
      "cell_type": "code",
      "execution_count": null,
      "metadata": {},
      "outputs": [],
      "source": [
        "## obfuscate all the subkeys to be sent by multiplying them with a random secret number k\n",
        "obf_message = obfuscate(m, k)"
      ]
    },
    {
      "cell_type": "code",
      "execution_count": null,
      "metadata": {
        "id": "MO-7_NSDIZFI"
      },
      "outputs": [],
      "source": [
        "# Calculate all the hashes from all parties\n",
        "client_tmp = client_hash(m, g, q, p)\n",
        "client_tmp_obf = client_hash(m, g, q, p, k)\n",
        "server_tmp = server_hash(m, g, q, p)\n",
        "server_tmp_obf = server_hash(m, g, q, p, k)"
      ]
    },
    {
      "cell_type": "code",
      "execution_count": null,
      "metadata": {},
      "outputs": [],
      "source": [
        "public_data = {'obfuscated-message': obf_message, 'G (base)': g, 'P (base primes)': p, 'Q (derived primes)': q, 'obfuscated-client-hash': client_tmp_obf}\n",
        "with open(\"./public-data.dat\") as f:\n",
        "    json.dumps(public_data, f)\n",
        "\n",
        "private_data = {'K (obfuscation constants)': k, 'clean-message': client_tmp}\n",
        "with open(\"./private-data.dat\") as f:\n",
        "    json.dumps(private_data, f)"
      ]
    },
    {
      "cell_type": "code",
      "execution_count": null,
      "metadata": {
        "colab": {
          "base_uri": "https://localhost:8080/"
        },
        "id": "foR-_iwfHPxM",
        "outputId": "fdb5762e-1520-4d96-d46e-c6450f33464c"
      },
      "outputs": [
        {
          "name": "stdout",
          "output_type": "stream",
          "text": [
            "\n",
            "Hash Function:\n",
            "\t H(x, a, b, k) = a^(k.x) (mod b)\n",
            "\n",
            "Data generated: \n",
            "\n",
            "\t Input (inp): \n",
            "\t somthign confusing for everyone that breaks things\n",
            "\n",
            "\t Input encoded into blocks (M): \n",
            "\t [[115, 111, 109, 116, 104], [105, 103, 110, 32, 99], [111, 110, 102, 117, 115], [105, 110, 103, 32, 102]]\n",
            "\n",
            "\t Primes generated (P): \n",
            "\t [1009, 1013, 1019, 1021, 1031]\n",
            "\n",
            "\t Dependent primes (Q[i] | Q[i] % P[i] == 1): \n",
            "\t [12109, 12157, 2039, 40841, 2063]\n",
            "\n",
            "\t Bases (G): \n",
            "\t [84, 89, 94, 91, 80]\n",
            "\n",
            "\t Fuzz factors (K): \n",
            "\t [26, 37, 43, 17, 20]\n",
            "\n",
            "\n",
            "Clean data: \n",
            "\n",
            "Client: \n",
            "\n",
            "\tClient's Hash:  [4126, 5877, 1405, 10291, 1266]\n",
            "\n",
            "Servers: \n",
            "\n",
            "\tIndividual server computation: \n",
            "\tServer's hash:  [[11825, 5516, 659, 39876, 1484], [7370, 10848, 776, 7029, 479], [6236, 11536, 1686, 34708, 1959], [7370, 11536, 1481, 7029, 623]]\n",
            "\n",
            "\tNetwork wide computation: \n",
            "\tDistributed hash:  [4126, 5877, 1405, 10291, 1266]\n",
            "\n",
            "Checking:\n",
            "\n",
            "\tHashes are equal!\n",
            "\n",
            "\n",
            "Obfuscated data: \n",
            "\n",
            "Client: \n",
            "\n",
            "\tClient's Hash:  [8014, 11929, 381, 20655, 1623]\n",
            "\n",
            "Servers: \n",
            "\n",
            "\tIndividual server computation: \n",
            "\tServer's Hash:  [[2431, 5915, 1413, 8579, 962], [6447, 10448, 775, 31214, 1455], [100, 6560, 1627, 6336, 1247], [6447, 6560, 28, 31214, 1818]]\n",
            "\n",
            "\tNetwork wide computation: \n",
            "\tDistributed hash:  [8014, 11929, 381, 20655, 1623]\n",
            "\n",
            "Checking:\n",
            "\n",
            "\tObfuscated hashes are equal!\n",
            "\n",
            "\n"
          ]
        }
      ],
      "source": [
        "print(f\"\"\"\n",
        "        Hash Function:\\n\\t H(x, a, b, k) = a^(k.x) (mod b)\n",
        "        Data generated:\n",
        "        \\tInput (inp):\n",
        "        \\t\\t{inp}\n",
        "        \\tInput encoded into blocks (M):\n",
        "        \\t\\t{m}\n",
        "        \\tObfuscated message (K.M):\n",
        "        \\t\\t{obf_message}\n",
        "        \\tPrimes generated (P):\n",
        "        \\t\\t{p}\n",
        "        \\tDependent primes (Q[i] | Q[i] % P[i] == 1):\n",
        "        \\t\\t{q}\n",
        "        \\tBases (G):\n",
        "        \\t\\t{g}\n",
        "        \\tFuzz factors (K):\n",
        "        \\t\\t{k}\n",
        "    \"\"\")\n",
        "\n",
        "print(f\"\"\"\n",
        "        Clean data:\n",
        "        Client:\n",
        "        \\tClient's Hash:\n",
        "        \\t\\t{client_tmp} \n",
        "        Servers:\n",
        "        \\tServer's Hash (Individual server computation):\n",
        "        \\t\\t{server_tmp[1]}\n",
        "        \\tDistributed Hash (Network wide computation):\n",
        "        \\t\\t{server_tmp[0]}\n",
        "    \"\"\")\n",
        "if(client_tmp == server_tmp[0]):\n",
        "    print(\"\\tChecking:\\n\\t\\tHashes are equal!\")\n",
        "\n",
        "print(f\"\"\"\n",
        "        Obfuscated data:\n",
        "        Client:\n",
        "        \\tClient's Hash:\n",
        "        \\t\\t{client_tmp_obf}\n",
        "        Servers:\n",
        "        \\tServer's Hash (Individual server computation):\n",
        "        \\t\\t{server_tmp_obf[1]}\n",
        "        \\tDistributed Hash (Network wide computation):\n",
        "        \\t\\t{server_tmp_obf[0]}\n",
        "    \"\"\")\n",
        "if(client_tmp_obf == server_tmp_obf[0]):\n",
        "    print(\"\\tChecking:\\n\\t\\tObfuscated hashes are equal!\")\n"
      ]
    }
  ],
  "metadata": {
    "colab": {
      "provenance": []
    },
    "kernelspec": {
      "display_name": "Python 3",
      "language": "python",
      "name": "python3"
    },
    "language_info": {
      "codemirror_mode": {
        "name": "ipython",
        "version": 3
      },
      "file_extension": ".py",
      "mimetype": "text/x-python",
      "name": "python",
      "nbconvert_exporter": "python",
      "pygments_lexer": "ipython3",
      "version": "3.11.0"
    },
    "vscode": {
      "interpreter": {
        "hash": "e7370f93d1d0cde622a1f8e1c04877d8463912d04d973331ad4851f04de6915a"
      }
    }
  },
  "nbformat": 4,
  "nbformat_minor": 0
}
